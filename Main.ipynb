{
 "cells": [
  {
   "cell_type": "markdown",
   "metadata": {},
   "source": [
    "### **Dog breed image classification model using ResNet50 CNN architecture**"
   ]
  },
  {
   "cell_type": "markdown",
   "metadata": {},
   "source": [
    "Import Libraries"
   ]
  },
  {
   "cell_type": "code",
   "execution_count": 1,
   "metadata": {},
   "outputs": [],
   "source": [
    "import numpy as np\n",
    "from tensorflow.keras.applications import resnet50\n",
    "from tensorflow.python.keras.preprocessing.image import load_img, img_to_array\n",
    "from tensorflow.python.keras.applications.resnet import preprocess_input\n",
    "from sklearn.model_selection import train_test_split\n",
    "from os.path import join\n",
    "import pandas as pd"
   ]
  },
  {
   "cell_type": "markdown",
   "metadata": {},
   "source": [
    "### Load Data"
   ]
  },
  {
   "cell_type": "code",
   "execution_count": 2,
   "metadata": {},
   "outputs": [],
   "source": [
    "labels = pd.read_csv('labels.csv')\n",
    "# only keep the unique ids\n",
    "labels_unique = labels.drop_duplicates(subset=['id'])\n",
    "labels_unique['breed'] = labels_unique['breed'].astype('category')"
   ]
  },
  {
   "cell_type": "markdown",
   "metadata": {},
   "source": [
    "### As given in the assignment The classifier should only predict scores for these breeds : beagle, chihuahua, doberman,french_bulldog, golden_retriever, malamute, pug, saint_bernard, scottish_deerhound, tibetan_mastiff"
   ]
  },
  {
   "cell_type": "markdown",
   "metadata": {},
   "source": [
    "Extract the Working labels"
   ]
  },
  {
   "cell_type": "code",
   "execution_count": 3,
   "metadata": {},
   "outputs": [],
   "source": [
    "work_labels = labels_unique.loc[labels_unique['breed'].isin(['beagle', 'chihuahua', 'doberman','french_bulldog', \n",
    "                                                       'golden_retriever', 'malamute', 'pug', 'saint_bernard', \n",
    "                                                       'scottish_deerhound','tibetan_mastiff'])]\n",
    "work_labels.reset_index(inplace=True,drop = True)"
   ]
  },
  {
   "cell_type": "code",
   "execution_count": 4,
   "metadata": {},
   "outputs": [
    {
     "output_type": "execute_result",
     "data": {
      "text/plain": [
       "                                 id               breed  breedNum\n",
       "0  0021f9ceb3235effd7fcde7f7538ed62    golden_retriever         0\n",
       "1  0042188c895a2f14ef64a918ed9c7b64  scottish_deerhound         1\n",
       "2  008b1271ed1addaccf93783b39deab45            doberman         2\n",
       "3  00a366d4b4a9bbb6c8a63126697b7656    golden_retriever         0\n",
       "4  0100f55e4f0fe28f2c0465d3fc4b9897    golden_retriever         0"
      ],
      "text/html": "<div>\n<style scoped>\n    .dataframe tbody tr th:only-of-type {\n        vertical-align: middle;\n    }\n\n    .dataframe tbody tr th {\n        vertical-align: top;\n    }\n\n    .dataframe thead th {\n        text-align: right;\n    }\n</style>\n<table border=\"1\" class=\"dataframe\">\n  <thead>\n    <tr style=\"text-align: right;\">\n      <th></th>\n      <th>id</th>\n      <th>breed</th>\n      <th>breedNum</th>\n    </tr>\n  </thead>\n  <tbody>\n    <tr>\n      <th>0</th>\n      <td>0021f9ceb3235effd7fcde7f7538ed62</td>\n      <td>golden_retriever</td>\n      <td>0</td>\n    </tr>\n    <tr>\n      <th>1</th>\n      <td>0042188c895a2f14ef64a918ed9c7b64</td>\n      <td>scottish_deerhound</td>\n      <td>1</td>\n    </tr>\n    <tr>\n      <th>2</th>\n      <td>008b1271ed1addaccf93783b39deab45</td>\n      <td>doberman</td>\n      <td>2</td>\n    </tr>\n    <tr>\n      <th>3</th>\n      <td>00a366d4b4a9bbb6c8a63126697b7656</td>\n      <td>golden_retriever</td>\n      <td>0</td>\n    </tr>\n    <tr>\n      <th>4</th>\n      <td>0100f55e4f0fe28f2c0465d3fc4b9897</td>\n      <td>golden_retriever</td>\n      <td>0</td>\n    </tr>\n  </tbody>\n</table>\n</div>"
     },
     "metadata": {},
     "execution_count": 4
    }
   ],
   "source": [
    "df_num, df_meta = pd.factorize(work_labels['breed'])\n",
    "work_labels_new = pd.concat([work_labels, pd.DataFrame(df_num,columns=['breedNum'])], axis=1)\n",
    "work_labels_new.head()"
   ]
  },
  {
   "cell_type": "markdown",
   "metadata": {},
   "source": [
    "### readConvertImg() Method will take the path of the image and image size as input and return an 3D array containing scaled values"
   ]
  },
  {
   "cell_type": "code",
   "execution_count": 6,
   "metadata": {},
   "outputs": [],
   "source": [
    "# This Function will read the image from image path and convert it numpy array\n",
    "def readConvertImg(path,height,width):\n",
    "    # load image\n",
    "    img = load_img(path, target_size=(height, width))\n",
    "    # convert to array\n",
    "    img_array = np.array([img_to_array(img)])\n",
    "    # scale and return\n",
    "    output = preprocess_input(img_array)\n",
    "    return(output)"
   ]
  },
  {
   "cell_type": "markdown",
   "metadata": {},
   "source": [
    "### Read the Data from train_data only on using the ids which are in work_labels"
   ]
  },
  {
   "cell_type": "code",
   "execution_count": 7,
   "metadata": {},
   "outputs": [],
   "source": [
    "img_size = 224\n",
    "X = np.zeros((len(work_labels),img_size,img_size,3))\n",
    "Y = np.zeros(len(work_labels))\n",
    "k = 0\n",
    "dire = '../train_data/'\n",
    "for (i,l,t) in zip(work_labels_new['id'],work_labels_new['breedNum'],work_labels_new['breed']):\n",
    "    file = str(i)+'.jpg'\n",
    "    pth = join(dire,file)\n",
    "    X[k] = readConvertImg(pth,img_size,img_size)\n",
    "    Y[k] = int(l)\n",
    "    k +=1"
   ]
  },
  {
   "cell_type": "markdown",
   "metadata": {},
   "source": [
    "### Load the Pre-Trained ResNet50 Model"
   ]
  },
  {
   "cell_type": "code",
   "execution_count": 7,
   "metadata": {},
   "outputs": [],
   "source": [
    "my_model =resnet50.ResNet50(weights = 'imagenet')"
   ]
  },
  {
   "cell_type": "markdown",
   "metadata": {},
   "source": [
    "### Do prediction on our Data Set"
   ]
  },
  {
   "cell_type": "code",
   "execution_count": 8,
   "metadata": {},
   "outputs": [],
   "source": [
    "preds = my_model.predict(X)\n",
    "most_likely_labels = resnet50.decode_predictions(preds,top=1)"
   ]
  },
  {
   "cell_type": "markdown",
   "metadata": {},
   "source": [
    "### Find Prediction score"
   ]
  },
  {
   "cell_type": "code",
   "execution_count": 10,
   "metadata": {},
   "outputs": [
    {
     "name": "stdout",
     "output_type": "stream",
     "text": [
      "Prediction Score is  =  77.64565992865636\n"
     ]
    }
   ],
   "source": [
    "Predicted_labels = []\n",
    "prob = []\n",
    "for i in range(len(most_likely_labels)):\n",
    "    # take the predicted labels in the list\n",
    "    Predicted_labels.append(most_likely_labels[i][0][1])\n",
    "    prob.append(most_likely_labels[i][0][2])\n",
    "\n",
    "pred_value = []\n",
    "for (i,j,n) in zip(Predicted_labels,work_labels_new['breed'],work_labels_new['breedNum']):\n",
    "    # convert the correct predicted label to 1 and false to 0\n",
    "    if i.casefold() == j.casefold():\n",
    "        pred_value.append(n)\n",
    "    else:\n",
    "        pred_value.append(-1)\n",
    "\n",
    "# Calculate Prediction Percentage\n",
    "pred_arr = np.array(pred_value)\n",
    "print('Prediction Score is  = ',(len(np.where(pred_arr >= 0)[0])/len(work_labels) )*100)"
   ]
  },
  {
   "cell_type": "code",
   "execution_count": 11,
   "metadata": {},
   "outputs": [
    {
     "name": "stdout",
     "output_type": "stream",
     "text": [
      "[0. 1. 2. 0. 0.]   [0 1 2 0 0]\n"
     ]
    }
   ],
   "source": [
    "print(Y[0:5],end = \"   \")\n",
    "print(pred_arr[0:5])"
   ]
  },
  {
   "cell_type": "markdown",
   "metadata": {},
   "source": [
    "### Evalution Matrix"
   ]
  },
  {
   "cell_type": "markdown",
   "metadata": {},
   "source": [
    "#### Accuracy"
   ]
  },
  {
   "cell_type": "code",
   "execution_count": 12,
   "metadata": {},
   "outputs": [
    {
     "data": {
      "text/plain": [
       "0.7764565992865636"
      ]
     },
     "execution_count": 12,
     "metadata": {},
     "output_type": "execute_result"
    }
   ],
   "source": [
    "from sklearn.metrics import accuracy_score\n",
    "accuracy_score(Y, pred_arr)"
   ]
  },
  {
   "cell_type": "markdown",
   "metadata": {},
   "source": [
    "#### Confusion Matrix"
   ]
  },
  {
   "cell_type": "code",
   "execution_count": 21,
   "metadata": {},
   "outputs": [],
   "source": [
    "import matplotlib.pyplot as plt  \n",
    "from sklearn.metrics import plot_confusion_matrix\n",
    "import itertools"
   ]
  },
  {
   "cell_type": "code",
   "execution_count": 28,
   "metadata": {},
   "outputs": [
    {
     "name": "stdout",
     "output_type": "stream",
     "text": [
      "Confusion matrix, without normalization\n"
     ]
    },
    {
     "data": {
      "image/png": "[encoded data removed]",
      "text/plain": [
       "<Figure size 864x504 with 2 Axes>"
      ]
     },
     "metadata": {
      "needs_background": "light"
     },
     "output_type": "display_data"
    }
   ],
   "source": [
    "def plot_confusion_matrix(cm, classes,\n",
    "                          normalize=False,\n",
    "                          title='Confusion matrix',\n",
    "                          cmap=plt.cm.Blues):\n",
    "    \"\"\"\n",
    "    This function prints and plots the confusion matrix.\n",
    "    Normalization can be applied by setting `normalize=True`.\n",
    "    \"\"\"\n",
    "    print('Confusion matrix, without normalization')\n",
    "    plt.imshow(cm, interpolation='nearest', cmap=cmap)\n",
    "    plt.title(title)\n",
    "    plt.colorbar()\n",
    "    tick_marks = np.arange(len(classes))\n",
    "    plt.xticks(tick_marks, classes, rotation=45)\n",
    "    plt.yticks(tick_marks, classes)\n",
    "\n",
    "    fmt = '.2f' if normalize else 'd'\n",
    "    thresh = cm.max() / 2.\n",
    "    for i, j in itertools.product(range(cm.shape[0]), range(cm.shape[1])):\n",
    "        plt.text(j, i, format(cm[i, j], fmt),\n",
    "                 horizontalalignment=\"center\",\n",
    "                 color=\"white\" if cm[i, j] > thresh else \"black\")\n",
    "\n",
    "    plt.tight_layout()\n",
    "    plt.ylabel('True label')\n",
    "    plt.xlabel('Predicted label')\n",
    "\n",
    "cm = confusion_matrix(Y, pred_arr)\n",
    "np.set_printoptions(precision=2)\n",
    "np.set_printoptions(precision=2)\n",
    "\n",
    "plt.figure(figsize = (12,7))\n",
    "plot_confusion_matrix(cm, classes=[0, 1,2,3,4,5,6,7,8,9,10],\n",
    "                      title='Confusion matrix')"
   ]
  },
  {
   "cell_type": "markdown",
   "metadata": {},
   "source": [
    "#### F1 Score"
   ]
  },
  {
   "cell_type": "code",
   "execution_count": 33,
   "metadata": {},
   "outputs": [
    {
     "data": {
      "text/plain": [
       "array([0.        , 0.83333333, 0.80672269, 0.86153846, 0.93939394,\n",
       "       0.85470085, 0.80882353, 0.90697674, 0.98795181, 0.85454545,\n",
       "       0.86885246])"
      ]
     },
     "execution_count": 33,
     "metadata": {},
     "output_type": "execute_result"
    }
   ],
   "source": [
    "from sklearn.metrics import f1_score\n",
    "f1_score(Y, pred_arr,average = None)"
   ]
  },
  {
   "cell_type": "code",
   "execution_count": null,
   "metadata": {},
   "outputs": [],
   "source": []
  }
 ],
 "metadata": {
  "kernelspec": {
   "display_name": "Python 3",
   "language": "python",
   "name": "python3"
  },
  "language_info": {
   "codemirror_mode": {
    "name": "ipython",
    "version": 3
   },
   "file_extension": ".py",
   "mimetype": "text/x-python",
   "name": "python",
   "nbconvert_exporter": "python",
   "pygments_lexer": "ipython3",
   "version": "3.8.5-final"
  }
 },
 "nbformat": 4,
 "nbformat_minor": 4
}