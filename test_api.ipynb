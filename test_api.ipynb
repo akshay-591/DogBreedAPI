{
 "metadata": {
  "language_info": {
   "codemirror_mode": {
    "name": "ipython",
    "version": 3
   },
   "file_extension": ".py",
   "mimetype": "text/x-python",
   "name": "python",
   "nbconvert_exporter": "python",
   "pygments_lexer": "ipython3",
   "version": "3.8.5-final"
  },
  "orig_nbformat": 2,
  "kernelspec": {
   "name": "python3",
   "display_name": "Python 3.8.5 64-bit ('base': conda)",
   "metadata": {
    "interpreter": {
     "hash": "4d80e57ab54d3beabeff0de0202701a05b8097e02c748a074da3cc0b38967141"
    }
   }
  }
 },
 "nbformat": 4,
 "nbformat_minor": 2,
 "cells": [
  {
   "source": [
    "### This File Contains Test For the Dog Breed API"
   ],
   "cell_type": "markdown",
   "metadata": {}
  },
  {
   "source": [
    "Import Libraries"
   ],
   "cell_type": "markdown",
   "metadata": {}
  },
  {
   "cell_type": "code",
   "execution_count": 1,
   "metadata": {},
   "outputs": [],
   "source": [
    "import requests\n",
    "import json\n",
    "import base64\n",
    "from io import BytesIO\n",
    "from PIL import Image\n",
    "\n",
    "url = 'https://dog-breed-flask-model.herokuapp.com/'"
   ]
  },
  {
   "source": [
    "### Test 1"
   ],
   "cell_type": "markdown",
   "metadata": {}
  },
  {
   "cell_type": "code",
   "execution_count": 2,
   "metadata": {},
   "outputs": [
    {
     "output_type": "stream",
     "name": "stdout",
     "text": [
      "Response =  <Response [200]>\nOutput =  {'breed': 'golden_retriever', 'score': '0.4829604'}\n"
     ]
    }
   ],
   "source": [
    "path = '../train_data/0021f9ceb3235effd7fcde7f7538ed62.jpg'\n",
    "\n",
    "with open(path, \"rb\") as f:\n",
    "    im_b64 = base64.b64encode(f.read())\n",
    "\n",
    "data= json.dumps({'image': im_b64.decode('utf-8')})\n",
    "\n",
    "r = requests.post(url,data)\n",
    "print(\"Response = \",r)\n",
    "print(\"Output = \",r.json())"
   ]
  },
  {
   "source": [
    "### Test 2"
   ],
   "cell_type": "markdown",
   "metadata": {}
  },
  {
   "cell_type": "code",
   "execution_count": 3,
   "metadata": {},
   "outputs": [
    {
     "output_type": "stream",
     "name": "stdout",
     "text": [
      "Response =  <Response [200]>\nOutput =  {'breed': 'Scottish_deerhound', 'score': '0.97929037'}\n"
     ]
    }
   ],
   "source": [
    "path = '../train_data/0042188c895a2f14ef64a918ed9c7b64.jpg'\n",
    "with open(path, \"rb\") as f:\n",
    "    im_b64 = base64.b64encode(f.read())\n",
    "data= json.dumps({'image': im_b64.decode('utf-8')})\n",
    "\n",
    "r = requests.post(url,data)\n",
    "print(\"Response = \",r)\n",
    "print(\"Output = \",r.json())"
   ]
  },
  {
   "source": [
    "### Test 3"
   ],
   "cell_type": "markdown",
   "metadata": {}
  },
  {
   "cell_type": "code",
   "execution_count": 4,
   "metadata": {},
   "outputs": [
    {
     "output_type": "stream",
     "name": "stdout",
     "text": [
      "Response =  <Response [200]>\nOutput =  {'breed': 'Doberman', 'score': '0.9756024'}\n"
     ]
    }
   ],
   "source": [
    "path = '../train_data/008b1271ed1addaccf93783b39deab45.jpg'\n",
    "with open(path, \"rb\") as f:\n",
    "    im_b64 = base64.b64encode(f.read())\n",
    "data= json.dumps({'image': im_b64.decode('utf-8')})\n",
    "\n",
    "r = requests.post(url,data)\n",
    "print(\"Response = \",r)\n",
    "print(\"Output = \",r.json())"
   ]
  },
  {
   "cell_type": "code",
   "execution_count": null,
   "metadata": {},
   "outputs": [],
   "source": []
  }
 ]
}